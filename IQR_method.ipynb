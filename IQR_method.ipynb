{
 "cells": [
  {
   "cell_type": "code",
   "execution_count": 1,
   "metadata": {},
   "outputs": [],
   "source": [
    "import pandas as pd\n",
    "import numpy as np"
   ]
  },
  {
   "cell_type": "code",
   "execution_count": 6,
   "metadata": {},
   "outputs": [
    {
     "data": {
      "text/html": [
       "<div>\n",
       "<style scoped>\n",
       "    .dataframe tbody tr th:only-of-type {\n",
       "        vertical-align: middle;\n",
       "    }\n",
       "\n",
       "    .dataframe tbody tr th {\n",
       "        vertical-align: top;\n",
       "    }\n",
       "\n",
       "    .dataframe thead th {\n",
       "        text-align: right;\n",
       "    }\n",
       "</style>\n",
       "<table border=\"1\" class=\"dataframe\">\n",
       "  <thead>\n",
       "    <tr style=\"text-align: right;\">\n",
       "      <th></th>\n",
       "      <th>age</th>\n",
       "    </tr>\n",
       "  </thead>\n",
       "  <tbody>\n",
       "    <tr>\n",
       "      <th>0</th>\n",
       "      <td>20</td>\n",
       "    </tr>\n",
       "    <tr>\n",
       "      <th>1</th>\n",
       "      <td>21</td>\n",
       "    </tr>\n",
       "    <tr>\n",
       "      <th>2</th>\n",
       "      <td>22</td>\n",
       "    </tr>\n",
       "    <tr>\n",
       "      <th>3</th>\n",
       "      <td>23</td>\n",
       "    </tr>\n",
       "    <tr>\n",
       "      <th>4</th>\n",
       "      <td>24</td>\n",
       "    </tr>\n",
       "    <tr>\n",
       "      <th>5</th>\n",
       "      <td>25</td>\n",
       "    </tr>\n",
       "    <tr>\n",
       "      <th>6</th>\n",
       "      <td>26</td>\n",
       "    </tr>\n",
       "    <tr>\n",
       "      <th>7</th>\n",
       "      <td>27</td>\n",
       "    </tr>\n",
       "    <tr>\n",
       "      <th>8</th>\n",
       "      <td>28</td>\n",
       "    </tr>\n",
       "    <tr>\n",
       "      <th>9</th>\n",
       "      <td>29</td>\n",
       "    </tr>\n",
       "    <tr>\n",
       "      <th>10</th>\n",
       "      <td>110</td>\n",
       "    </tr>\n",
       "  </tbody>\n",
       "</table>\n",
       "</div>"
      ],
      "text/plain": [
       "    age\n",
       "0    20\n",
       "1    21\n",
       "2    22\n",
       "3    23\n",
       "4    24\n",
       "5    25\n",
       "6    26\n",
       "7    27\n",
       "8    28\n",
       "9    29\n",
       "10  110"
      ]
     },
     "execution_count": 6,
     "metadata": {},
     "output_type": "execute_result"
    }
   ],
   "source": [
    "data = {\n",
    "    'age' : [ 20 , 21 , 22 , 23 , 24 , 25 , 26 , 27, 28 , 29 , 110] \n",
    "}\n",
    "df = pd.DataFrame(data)\n",
    "df"
   ]
  },
  {
   "cell_type": "code",
   "execution_count": 7,
   "metadata": {},
   "outputs": [
    {
     "name": "stdout",
     "output_type": "stream",
     "text": [
      "--------------------------------------\n",
      "Here id the data wiht outliers :     age\n",
      "0    20\n",
      "1    21\n",
      "2    22\n",
      "3    23\n",
      "4    24\n",
      "5    25\n",
      "6    26\n",
      "7    27\n",
      "8    28\n",
      "9    29\n",
      "10  110\n",
      "--------------------------------------\n",
      "Here are the outliers based on IQR threshold : \n",
      "     age\n",
      "10  110\n",
      "--------------------------------------\n",
      "Here is the data with outliers : \n",
      "    age\n",
      "0   20\n",
      "1   21\n",
      "2   22\n",
      "3   23\n",
      "4   24\n",
      "5   25\n",
      "6   26\n",
      "7   27\n",
      "8   28\n",
      "9   29\n"
     ]
    }
   ],
   "source": [
    "Q1 = np.percentile(df['age'] , 25 , interpolation= 'midpoint')\n",
    "Q3 = np.percentile(df['age'] , 75 , interpolation= 'midpoint')\n",
    "\n",
    "IQR = Q3 - Q1\n",
    "\n",
    "lower_bound  = Q1 - ( 1.5 * IQR)\n",
    "higher_bound  = Q3 + ( 1.5 * IQR)\n",
    "\n",
    "print(\"--------------------------------------\")\n",
    "\n",
    "print(f\"Here id the data wiht outliers : {df}\")\n",
    "\n",
    "print(\"--------------------------------------\")\n",
    "\n",
    "\n",
    "print(f\"Here are the outliers based on IQR threshold : \\n {df[(df['age'] < lower_bound) | (df['age'] > higher_bound)]}\")\n",
    "\n",
    "print(\"--------------------------------------\")\n",
    "\n",
    "\n",
    "\n",
    "df = df[(df['age'] >= lower_bound) & (df['age'] <= higher_bound)]\n",
    "\n",
    "print(f\"Here is the data with outliers : \\n {df}\")\n"
   ]
  },
  {
   "cell_type": "code",
   "execution_count": null,
   "metadata": {},
   "outputs": [],
   "source": []
  }
 ],
 "metadata": {
  "kernelspec": {
   "display_name": "Python 3",
   "language": "python",
   "name": "python3"
  },
  "language_info": {
   "codemirror_mode": {
    "name": "ipython",
    "version": 3
   },
   "file_extension": ".py",
   "mimetype": "text/x-python",
   "name": "python",
   "nbconvert_exporter": "python",
   "pygments_lexer": "ipython3",
   "version": "3.12.2"
  }
 },
 "nbformat": 4,
 "nbformat_minor": 2
}
