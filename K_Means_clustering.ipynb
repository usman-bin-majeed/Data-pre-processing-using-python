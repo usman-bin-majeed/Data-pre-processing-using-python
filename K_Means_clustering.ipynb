{
 "cells": [
  {
   "cell_type": "code",
   "execution_count": 1,
   "metadata": {},
   "outputs": [],
   "source": [
    "import pandas as pd\n",
    "import numpy as np"
   ]
  },
  {
   "cell_type": "code",
   "execution_count": 2,
   "metadata": {},
   "outputs": [],
   "source": [
    "from sklearn.cluster import KMeans"
   ]
  },
  {
   "cell_type": "code",
   "execution_count": 5,
   "metadata": {},
   "outputs": [],
   "source": [
    "df = [[2 , 2] , [3 , 3] , [3 , 4] , [30 , 30] , [31 , 31] , [30 , 32]]\n",
    "\n"
   ]
  },
  {
   "cell_type": "code",
   "execution_count": 6,
   "metadata": {},
   "outputs": [
    {
     "name": "stdout",
     "output_type": "stream",
     "text": [
      "Data :  [[2, 2], [3, 3], [3, 4], [30, 30], [31, 31], [30, 32]]\n",
      "Outliers :  [[30, 30], [31, 31], [30, 32]]\n",
      "Data without outliers :  [[2, 2], [3, 3], [3, 4]]\n"
     ]
    }
   ],
   "source": [
    "k_means = KMeans( n_clusters= 2 , n_init= 10)\n",
    "\n",
    "k_means.fit(df)\n",
    "\n",
    "labels = k_means.predict(df)\n",
    "\n",
    "outliers = [df[i] for i, label in enumerate(labels) if label == 1]\n",
    "\n",
    "print(\"Data : \" , df)\n",
    "\n",
    "print(\"Outliers : \" , outliers)\n",
    "\n",
    "outliers = [df[i] for i, label in enumerate(labels) if label == 1]\n",
    "\n",
    "\n",
    "df =  [df[i] for i, label in enumerate(labels) if label == 0]\n",
    "\n",
    "\n",
    "print(f\"Data without outliers : \", df)"
   ]
  },
  {
   "cell_type": "code",
   "execution_count": null,
   "metadata": {},
   "outputs": [],
   "source": []
  }
 ],
 "metadata": {
  "kernelspec": {
   "display_name": "Python 3",
   "language": "python",
   "name": "python3"
  },
  "language_info": {
   "codemirror_mode": {
    "name": "ipython",
    "version": 3
   },
   "file_extension": ".py",
   "mimetype": "text/x-python",
   "name": "python",
   "nbconvert_exporter": "python",
   "pygments_lexer": "ipython3",
   "version": "3.12.2"
  }
 },
 "nbformat": 4,
 "nbformat_minor": 2
}
